{
 "cells": [
  {
   "cell_type": "markdown",
   "id": "1420c5b3",
   "metadata": {},
   "source": [
    "## in this data sets i apply some basic functions and data visualization\n",
    "## functions \n",
    "### 1 . bio\n",
    "### 2. position\n",
    "### 3. perfoamance"
   ]
  },
  {
   "cell_type": "code",
   "execution_count": null,
   "id": "3c6ca219",
   "metadata": {},
   "outputs": [],
   "source": [
    "import pandas as pd\n",
    "import numpy as np\n",
    "import matplotlib.pyplot as plt\n",
    "%matplotlib.inline"
   ]
  },
  {
   "cell_type": "code",
   "execution_count": 2,
   "id": "95eca2ab",
   "metadata": {},
   "outputs": [
    {
     "data": {
      "text/html": [
       "<div>\n",
       "<style scoped>\n",
       "    .dataframe tbody tr th:only-of-type {\n",
       "        vertical-align: middle;\n",
       "    }\n",
       "\n",
       "    .dataframe tbody tr th {\n",
       "        vertical-align: top;\n",
       "    }\n",
       "\n",
       "    .dataframe thead th {\n",
       "        text-align: right;\n",
       "    }\n",
       "</style>\n",
       "<table border=\"1\" class=\"dataframe\">\n",
       "  <thead>\n",
       "    <tr style=\"text-align: right;\">\n",
       "      <th></th>\n",
       "      <th>name</th>\n",
       "      <th>date_of_birth</th>\n",
       "      <th>height</th>\n",
       "      <th>weight</th>\n",
       "      <th>spike</th>\n",
       "      <th>block</th>\n",
       "      <th>position_number</th>\n",
       "      <th>country</th>\n",
       "    </tr>\n",
       "  </thead>\n",
       "  <tbody>\n",
       "    <tr>\n",
       "      <th>0</th>\n",
       "      <td>Angelina Lazarenko</td>\n",
       "      <td>13/04/1998</td>\n",
       "      <td>193</td>\n",
       "      <td>80</td>\n",
       "      <td>320</td>\n",
       "      <td>305</td>\n",
       "      <td>3</td>\n",
       "      <td>23</td>\n",
       "    </tr>\n",
       "    <tr>\n",
       "      <th>1</th>\n",
       "      <td>Svetlana Serbina</td>\n",
       "      <td>15/05/1996</td>\n",
       "      <td>182</td>\n",
       "      <td>71</td>\n",
       "      <td>295</td>\n",
       "      <td>284</td>\n",
       "      <td>1</td>\n",
       "      <td>23</td>\n",
       "    </tr>\n",
       "    <tr>\n",
       "      <th>2</th>\n",
       "      <td>Ekaterina Shkurikhina</td>\n",
       "      <td>17/06/1996</td>\n",
       "      <td>190</td>\n",
       "      <td>72</td>\n",
       "      <td>306</td>\n",
       "      <td>296</td>\n",
       "      <td>2</td>\n",
       "      <td>23</td>\n",
       "    </tr>\n",
       "    <tr>\n",
       "      <th>3</th>\n",
       "      <td>Kristina Kurnosova</td>\n",
       "      <td>17/06/1997</td>\n",
       "      <td>176</td>\n",
       "      <td>62</td>\n",
       "      <td>288</td>\n",
       "      <td>278</td>\n",
       "      <td>6</td>\n",
       "      <td>23</td>\n",
       "    </tr>\n",
       "    <tr>\n",
       "      <th>4</th>\n",
       "      <td>Ekaterina Novikova</td>\n",
       "      <td>07/12/1996</td>\n",
       "      <td>181</td>\n",
       "      <td>70</td>\n",
       "      <td>290</td>\n",
       "      <td>275</td>\n",
       "      <td>1</td>\n",
       "      <td>23</td>\n",
       "    </tr>\n",
       "    <tr>\n",
       "      <th>...</th>\n",
       "      <td>...</td>\n",
       "      <td>...</td>\n",
       "      <td>...</td>\n",
       "      <td>...</td>\n",
       "      <td>...</td>\n",
       "      <td>...</td>\n",
       "      <td>...</td>\n",
       "      <td>...</td>\n",
       "    </tr>\n",
       "    <tr>\n",
       "      <th>427</th>\n",
       "      <td>Yagmur Mislina Kilic</td>\n",
       "      <td>30/03/1996</td>\n",
       "      <td>189</td>\n",
       "      <td>66</td>\n",
       "      <td>283</td>\n",
       "      <td>280</td>\n",
       "      <td>2</td>\n",
       "      <td>26</td>\n",
       "    </tr>\n",
       "    <tr>\n",
       "      <th>428</th>\n",
       "      <td>Cemre Janset Erkul</td>\n",
       "      <td>12/01/1997</td>\n",
       "      <td>184</td>\n",
       "      <td>65</td>\n",
       "      <td>298</td>\n",
       "      <td>295</td>\n",
       "      <td>3</td>\n",
       "      <td>26</td>\n",
       "    </tr>\n",
       "    <tr>\n",
       "      <th>429</th>\n",
       "      <td>Arelya Karasoy</td>\n",
       "      <td>14/12/1996</td>\n",
       "      <td>181</td>\n",
       "      <td>73</td>\n",
       "      <td>287</td>\n",
       "      <td>280</td>\n",
       "      <td>1</td>\n",
       "      <td>26</td>\n",
       "    </tr>\n",
       "    <tr>\n",
       "      <th>430</th>\n",
       "      <td>Arelya Karasoy</td>\n",
       "      <td>14/12/1996</td>\n",
       "      <td>181</td>\n",
       "      <td>73</td>\n",
       "      <td>287</td>\n",
       "      <td>280</td>\n",
       "      <td>1</td>\n",
       "      <td>26</td>\n",
       "    </tr>\n",
       "    <tr>\n",
       "      <th>431</th>\n",
       "      <td>Su Zent</td>\n",
       "      <td>25/03/1996</td>\n",
       "      <td>184</td>\n",
       "      <td>70</td>\n",
       "      <td>305</td>\n",
       "      <td>303</td>\n",
       "      <td>3</td>\n",
       "      <td>26</td>\n",
       "    </tr>\n",
       "  </tbody>\n",
       "</table>\n",
       "<p>432 rows × 8 columns</p>\n",
       "</div>"
      ],
      "text/plain": [
       "                      name date_of_birth  height  weight  spike  block  \\\n",
       "0       Angelina Lazarenko    13/04/1998     193      80    320    305   \n",
       "1         Svetlana Serbina    15/05/1996     182      71    295    284   \n",
       "2    Ekaterina Shkurikhina    17/06/1996     190      72    306    296   \n",
       "3       Kristina Kurnosova    17/06/1997     176      62    288    278   \n",
       "4       Ekaterina Novikova    07/12/1996     181      70    290    275   \n",
       "..                     ...           ...     ...     ...    ...    ...   \n",
       "427   Yagmur Mislina Kilic    30/03/1996     189      66    283    280   \n",
       "428     Cemre Janset Erkul    12/01/1997     184      65    298    295   \n",
       "429         Arelya Karasoy    14/12/1996     181      73    287    280   \n",
       "430         Arelya Karasoy    14/12/1996     181      73    287    280   \n",
       "431                Su Zent    25/03/1996     184      70    305    303   \n",
       "\n",
       "     position_number  country  \n",
       "0                  3       23  \n",
       "1                  1       23  \n",
       "2                  2       23  \n",
       "3                  6       23  \n",
       "4                  1       23  \n",
       "..               ...      ...  \n",
       "427                2       26  \n",
       "428                3       26  \n",
       "429                1       26  \n",
       "430                1       26  \n",
       "431                3       26  \n",
       "\n",
       "[432 rows x 8 columns]"
      ]
     },
     "execution_count": 2,
     "metadata": {},
     "output_type": "execute_result"
    }
   ],
   "source": [
    "data = pd.read_csv(\"clean_data.csv\")\n",
    "# here we don't need index column\n",
    "data.drop('index',axis=1,inplace=True)\n",
    "data"
   ]
  },
  {
   "cell_type": "markdown",
   "id": "ef1197d0",
   "metadata": {},
   "source": [
    "## cleaning data"
   ]
  },
  {
   "cell_type": "code",
   "execution_count": 5,
   "id": "06b1ff08",
   "metadata": {},
   "outputs": [
    {
     "data": {
      "text/plain": [
       "(143, 9)"
      ]
     },
     "execution_count": 5,
     "metadata": {},
     "output_type": "execute_result"
    }
   ],
   "source": [
    "data.duplicated().sum() # 289\n",
    "data.drop_duplicates(inplace=True)\n",
    "data.shape"
   ]
  },
  {
   "cell_type": "markdown",
   "id": "efa934bc",
   "metadata": {},
   "source": [
    "## to display bio of player"
   ]
  },
  {
   "cell_type": "code",
   "execution_count": 6,
   "id": "de4e48c4",
   "metadata": {},
   "outputs": [],
   "source": [
    "def bio(name):\n",
    "    l=[]\n",
    "    na = str(name)\n",
    "    index = data[data['name']==na].index[0]\n",
    "    print(\"birth data==>\", data.loc[index,'date_of_birth'])\n",
    "    print(\"height==>\",data.loc[index,'height'])\n",
    "    print(\"weight==>\",data.loc[index,'weight'])\n",
    "    print(\"spike==>\",data.loc[index,'spike'])\n",
    "    print(\"block==>\",data.loc[index,'block'])\n",
    "    print(\"position_number==>\",data.loc[index,'position_number'])\n",
    "    print(\"position==>\",data.loc[index,'position'])\n",
    "    print(\"country==>\",data.loc[index,'country'])"
   ]
  },
  {
   "cell_type": "code",
   "execution_count": 7,
   "id": "7d0db57c",
   "metadata": {},
   "outputs": [
    {
     "data": {
      "text/plain": [
       "1"
      ]
     },
     "execution_count": 7,
     "metadata": {},
     "output_type": "execute_result"
    }
   ],
   "source": [
    " data[data['name']==\"Svetlana Serbina\"].index[0]\n",
    "    "
   ]
  },
  {
   "cell_type": "code",
   "execution_count": 8,
   "id": "08c09afc",
   "metadata": {},
   "outputs": [
    {
     "name": "stdout",
     "output_type": "stream",
     "text": [
      "birth data==> 15/05/1996\n",
      "height==> 182\n",
      "weight==> 71\n",
      "spike==> 295\n",
      "block==> 284\n",
      "position_number==> 1\n",
      "position==> right oustside hitter\n",
      "country==> 23\n"
     ]
    }
   ],
   "source": [
    "bio(\"Svetlana Serbina\")"
   ]
  },
  {
   "cell_type": "markdown",
   "id": "97985a4f",
   "metadata": {},
   "source": [
    "## give name to positions"
   ]
  },
  {
   "cell_type": "code",
   "execution_count": 9,
   "id": "9b2b800b",
   "metadata": {},
   "outputs": [],
   "source": [
    "def position(position_no):\n",
    "    l1=[]\n",
    "    if position_no==1:\n",
    "        l1.append('right oustside hitter')\n",
    "        return l1\n",
    "    elif position_no==2:\n",
    "        l1.append('right side blocker')\n",
    "        return l1\n",
    "    elif position_no==3:\n",
    "        l1.append('setter')\n",
    "        return l1\n",
    "    elif position_no==4:\n",
    "        l1.append('left side blocker')\n",
    "        return l1\n",
    "    else :\n",
    "        l1.append('left outside hitter')\n",
    "        return l1"
   ]
  },
  {
   "cell_type": "code",
   "execution_count": 10,
   "id": "fd152082",
   "metadata": {},
   "outputs": [],
   "source": [
    "data['position'] = data['position_number'].apply(position)\n",
    "data['position'] = data['position'].apply(lambda x : \" \".join(x))"
   ]
  },
  {
   "cell_type": "markdown",
   "id": "a64e73d6",
   "metadata": {},
   "source": [
    "## maximum blocks "
   ]
  },
  {
   "cell_type": "code",
   "execution_count": 11,
   "id": "511f52ae",
   "metadata": {},
   "outputs": [
    {
     "data": {
      "text/plain": [
       "name\n",
       "Anaila Martinez Chaviano            310\n",
       "Ailama Cese Montalvo                308\n",
       "Angelina Lazarenko                  305\n",
       "Su Zent                             303\n",
       "Sofia D'odorico                     302\n",
       "                                   ... \n",
       "Miriam Arleth Bojorquez Ruiz        200\n",
       "Leslie Angélica Lopez Flores        190\n",
       "Dayana Rojas                        180\n",
       "Yasmin Hussein                      178\n",
       "Kitzia Adonay Corrales Hernandez      0\n",
       "Name: block, Length: 143, dtype: int64"
      ]
     },
     "execution_count": 11,
     "metadata": {},
     "output_type": "execute_result"
    },
    {
     "data": {
      "image/png": "[encoded data removed]",
      "text/plain": [
       "<Figure size 432x288 with 1 Axes>"
      ]
     },
     "metadata": {
      "needs_background": "light"
     },
     "output_type": "display_data"
    }
   ],
   "source": [
    "data.groupby('name')['block'].max().sort_values(ascending=False).head(10).plot(kind='bar')\n",
    "data.groupby('name')['block'].max().sort_values(ascending=False)"
   ]
  },
  {
   "cell_type": "markdown",
   "id": "fa6888b9",
   "metadata": {},
   "source": [
    "## divide data by position \n",
    "#### ex how much player play on specific position"
   ]
  },
  {
   "cell_type": "code",
   "execution_count": 12,
   "id": "71a16798",
   "metadata": {},
   "outputs": [
    {
     "name": "stdout",
     "output_type": "stream",
     "text": [
      "left outside hitter\n",
      "left side blocker\n",
      "right oustside hitter\n",
      "right side blocker\n",
      "setter\n"
     ]
    }
   ],
   "source": [
    "g = data.groupby('position')\n",
    "for position , position_df in g:\n",
    "        l1 = []\n",
    "        l1.append(position)\n",
    "        l1.append(position_df)\n",
    "        print(l1[0])\n",
    "\n"
   ]
  },
  {
   "cell_type": "markdown",
   "id": "3c4d296d",
   "metadata": {},
   "source": [
    "## maximum spikes"
   ]
  },
  {
   "cell_type": "code",
   "execution_count": 13,
   "id": "e9ab1efd",
   "metadata": {},
   "outputs": [
    {
     "name": "stdout",
     "output_type": "stream",
     "text": [
      "position_number\n",
      "4    336\n",
      "2    322\n",
      "1    320\n",
      "3    320\n",
      "6    302\n",
      "Name: spike, dtype: int64\n"
     ]
    },
    {
     "data": {
      "text/plain": [
       "<AxesSubplot:xlabel='position'>"
      ]
     },
     "execution_count": 13,
     "metadata": {},
     "output_type": "execute_result"
    },
    {
     "data": {
      "image/png": "[encoded data removed]",
      "text/plain": [
       "<Figure size 432x288 with 1 Axes>"
      ]
     },
     "metadata": {
      "needs_background": "light"
     },
     "output_type": "display_data"
    }
   ],
   "source": [
    "g = data.groupby('position_number')['spike'].max().sort_values(ascending=False)\n",
    "print(g)\n",
    "data.groupby('position')['spike'].max().sort_values(ascending=False).plot(kind='bar')\n"
   ]
  },
  {
   "cell_type": "markdown",
   "id": "00e980f6",
   "metadata": {},
   "source": [
    "## make sure that height dosen't effect spikes and blocks"
   ]
  },
  {
   "cell_type": "code",
   "execution_count": 14,
   "id": "108a3afa",
   "metadata": {},
   "outputs": [
    {
     "name": "stdout",
     "output_type": "stream",
     "text": [
      "height\n",
      "184    310\n",
      "188    308\n",
      "193    305\n",
      "186    302\n",
      "187    302\n",
      "190    300\n",
      "189    300\n",
      "195    300\n",
      "192    300\n",
      "185    298\n",
      "Name: block, dtype: int64\n"
     ]
    },
    {
     "data": {
      "text/plain": [
       "height\n",
       "190    336\n",
       "188    322\n",
       "193    320\n",
       "184    320\n",
       "187    314\n",
       "186    313\n",
       "189    312\n",
       "195    312\n",
       "192    311\n",
       "194    309\n",
       "Name: spike, dtype: int64"
      ]
     },
     "execution_count": 14,
     "metadata": {},
     "output_type": "execute_result"
    }
   ],
   "source": [
    "print(data.groupby('height')['block'].max().sort_values(ascending=False)[0:10])\n",
    "data.groupby('height')['spike'].max().sort_values(ascending=False)[0:10]"
   ]
  },
  {
   "cell_type": "markdown",
   "id": "2bb7ee1d",
   "metadata": {},
   "source": [
    "## analys that which position have most player"
   ]
  },
  {
   "cell_type": "code",
   "execution_count": 15,
   "id": "1a0a7512",
   "metadata": {},
   "outputs": [
    {
     "data": {
      "text/plain": [
       "(array([36., 24., 48., 14., 21.]),\n",
       " array([0. , 0.8, 1.6, 2.4, 3.2, 4. ]),\n",
       " <BarContainer object of 5 artists>)"
      ]
     },
     "execution_count": 15,
     "metadata": {},
     "output_type": "execute_result"
    },
    {
     "data": {
      "image/png": "[encoded data removed]",
      "text/plain": [
       "<Figure size 432x288 with 1 Axes>"
      ]
     },
     "metadata": {
      "needs_background": "light"
     },
     "output_type": "display_data"
    }
   ],
   "source": [
    "plt.hist(data['position'],bins=5,orientation='horizontal')"
   ]
  },
  {
   "cell_type": "markdown",
   "id": "607964de",
   "metadata": {},
   "source": [
    "## relation of spikes and blocks"
   ]
  },
  {
   "cell_type": "code",
   "execution_count": 16,
   "id": "83067461",
   "metadata": {},
   "outputs": [
    {
     "data": {
      "text/plain": [
       "spike\n",
       "320    310\n",
       "322    308\n",
       "305    303\n",
       "313    302\n",
       "312    302\n",
       "Name: block, dtype: int64"
      ]
     },
     "execution_count": 16,
     "metadata": {},
     "output_type": "execute_result"
    },
    {
     "data": {
      "image/png": "[encoded data removed]",
      "text/plain": [
       "<Figure size 432x288 with 1 Axes>"
      ]
     },
     "metadata": {
      "needs_background": "light"
     },
     "output_type": "display_data"
    }
   ],
   "source": [
    "#plt.plot(data['spike'],data['block'],'r')\n",
    "data.groupby('spike')['block'].max().sort_values(ascending=False).plot()\n",
    "data.groupby('spike')['block'].max().sort_values(ascending=False).head()\n",
    "\n",
    "# so  we can say that at some phase of value spike and block are corealte with each other but at high values they vabirate "
   ]
  },
  {
   "cell_type": "markdown",
   "id": "5b374762",
   "metadata": {},
   "source": [
    "## now we want function which give us the good knowledge of player's spike and blocks"
   ]
  },
  {
   "cell_type": "code",
   "execution_count": 52,
   "id": "f495cdbb",
   "metadata": {},
   "outputs": [],
   "source": [
    "def performance(name_of_player):\n",
    "    \n",
    "    index = data[data['name']==name_of_player].index[0]\n",
    "    spikes = data.loc[index,'spike']\n",
    "    blocks = data.loc[index,'block']\n",
    "    per_spike = (int(spikes)*100)/400\n",
    "    per_block = (int(blocks)*100)/400\n",
    "    print(\"spikes\" ,per_spike)\n",
    "    print(\"block\",per_block)\n",
    "    overall_perfomance = (per_spike+per_block)/2\n",
    "    print(\"overall performance\",(per_spike+per_block)/2)\n",
    "    plt.hist(per_spike,color='blue',label='spikes',orientation='horizontal',  stacked=True)\n",
    "    plt.hist(per_block,color='black',label='blocks',orientation='horizontal',stacked=True)\n",
    "    plt.hist(overall_perfomance,color='red',label='average',orientation='horizontal',stacked=True)\n",
    "\n",
    "# error tolerance is 0 when we apply index in \"\" because of it is is int so we have to apply it without \"\" or ''"
   ]
  },
  {
   "cell_type": "code",
   "execution_count": 60,
   "id": "96174fc0",
   "metadata": {},
   "outputs": [
    {
     "name": "stdout",
     "output_type": "stream",
     "text": [
      "spikes 80.5\n",
      "block 77.0\n",
      "overall performance 78.75\n"
     ]
    },
    {
     "data": {
      "image/png": "[encoded data removed]",
      "text/plain": [
       "<Figure size 432x288 with 1 Axes>"
      ]
     },
     "metadata": {
      "needs_background": "light"
     },
     "output_type": "display_data"
    }
   ],
   "source": [
    "performance('Ailama Cese Montalvo')\n",
    "#performance('Kitzia Adonay Corrales Hernandez')"
   ]
  }
 ],
 "metadata": {
  "kernelspec": {
   "display_name": "Python 3",
   "language": "python",
   "name": "python3"
  },
  "language_info": {
   "codemirror_mode": {
    "name": "ipython",
    "version": 3
   },
   "file_extension": ".py",
   "mimetype": "text/x-python",
   "name": "python",
   "nbconvert_exporter": "python",
   "pygments_lexer": "ipython3",
   "version": "3.9.7"
  }
 },
 "nbformat": 4,
 "nbformat_minor": 5
}
